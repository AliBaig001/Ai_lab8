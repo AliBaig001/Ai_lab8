import pandas as pd
import numpy as np
from sklearn.metrics.pairwise import cosine_similarity

# Sample dataset with real movie names
data = {
    "User": ["User1", "User2", "User3", "User4"],
    "Inception": [4, 5, 2, 0],
    "The Dark Knight": [5, 0, 3, 4],
    "Interstellar": [0, 4, 5, 3],
    "Memento": [3, 0, 0, 5],
    "Tenet": [0, 4, 4, 0],
}

# Convert to DataFrame
df = pd.DataFrame(data).set_index("User")

# Fill missing values with 0
ratings = df.fillna(0)

# Transpose the DataFrame for item-based collaborative filtering
movie_ratings = ratings.T

# Compute cosine similarity between movies
similarity_matrix = cosine_similarity(movie_ratings)
similarity_df = pd.DataFrame(similarity_matrix, index=movie_ratings.index, columns=movie_ratings.index)

# Function to recommend movies
def recommend_movies(user, ratings_df, similarity_df, num_recommendations=3):
    user_ratings = ratings_df.loc[user]
    rated_movies = user_ratings[user_ratings > 0].index
    unrated_movies = user_ratings[user_ratings == 0].index

    recommendations = {}
    for movie in unrated_movies:
        # Compute predicted rating for the unrated movie
        sim_scores = similarity_df[movie].drop(movie)  # Exclude self-similarity
        weighted_scores = sum(
            user_ratings[rated_movie] * sim_scores.get(rated_movie, 0) for rated_movie in rated_movies
        )
        total_similarity = sim_scores[rated_movies].sum()
        predicted_rating = weighted_scores / total_similarity if total_similarity != 0 else 0
        recommendations[movie] = predicted_rating

    # Sort movies by predicted ratings
    sorted_recommendations = sorted(recommendations.items(), key=lambda x: x[1], reverse=True)
    return [movie for movie, score in sorted_recommendations[:num_recommendations]]

# Test the recommender for a user
user_name = "User1"
recommended_movies = recommend_movies(user_name, ratings, similarity_df)
print(f"Recommended movies for {user_name}: {recommended_movies}")
