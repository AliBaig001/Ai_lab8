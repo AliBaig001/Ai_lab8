import pandas as pd
import numpy as np
from sklearn.metrics.pairwise import cosine_similarity

# Sample dataset with real book titles
data = {
    "User": ["User1", "User2", "User3", "User4"],
    "1984": [5, 4, 0, 3],
    "To Kill a Mockingbird": [4, 0, 3, 5],
    "The Great Gatsby": [0, 5, 4, 0],
    "Pride and Prejudice": [3, 0, 5, 4],
    "Moby Dick": [0, 3, 4, 0],
}

# Convert to DataFrame
df = pd.DataFrame(data).set_index("User")

# Fill missing values with 0
ratings = df.fillna(0)

# Transpose the DataFrame for item-based collaborative filtering
book_ratings = ratings.T

# Compute cosine similarity between books
similarity_matrix = cosine_similarity(book_ratings)
similarity_df = pd.DataFrame(similarity_matrix, index=book_ratings.index, columns=book_ratings.index)

# Function to recommend books
def recommend_books(user, ratings_df, similarity_df, num_recommendations=3):
    user_ratings = ratings_df.loc[user]
    rated_books = user_ratings[user_ratings > 0].index
    unrated_books = user_ratings[user_ratings == 0].index

    recommendations = {}
    for book in unrated_books:
        # Compute predicted rating for the unrated book
        sim_scores = similarity_df[book].drop(book)  # Exclude self-similarity
        weighted_scores = sum(
            user_ratings[rated_book] * sim_scores.get(rated_book, 0) for rated_book in rated_books
        )
        total_similarity = sim_scores[rated_books].sum()
        predicted_rating = weighted_scores / total_similarity if total_similarity != 0 else 0
        recommendations[book] = predicted_rating

    # Sort books by predicted ratings
    sorted_recommendations = sorted(recommendations.items(), key=lambda x: x[1], reverse=True)
    return [book for book, score in sorted_recommendations[:num_recommendations]]

# Test the recommender for a user
user_name = "User1"
recommended_books = recommend_books(user_name, ratings, similarity_df)
print(f"Recommended books for {user_name}: {recommended_books}")
